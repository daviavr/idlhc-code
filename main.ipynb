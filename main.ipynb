{
 "cells": [
  {
   "cell_type": "code",
   "execution_count": null,
   "metadata": {},
   "outputs": [],
   "source": [
    "from common.problem import Problem\n",
    "from algorithm.idlhc import IDLHC\n",
    "\n",
    "generations = 100\n",
    "num_of_individuals = 100\n",
    "num_of_variables = 100\n",
    "direction = \"MAX\"\n",
    "\n",
    "num_pdf = 20 \n",
    "num_cut_pdf = 0.1"
   ]
  },
  {
   "cell_type": "code",
   "execution_count": null,
   "metadata": {},
   "outputs": [],
   "source": [
    "from common.knapsack import Knapsack\n",
    "import random\n",
    "\n",
    "capacity = 2000\n",
    "values = [random.randint(1, 100) for i in range(num_of_variables)]\n",
    "weights = [random.randint(1, 100) for i in range(num_of_variables)]\n",
    "ratios = [values[i] / weights[i] for i in range(num_of_variables)]\n",
    "\n",
    "sorted_ratio_indexes = sorted(range(len(values)), key=lambda i: values[i])\n",
    "\n",
    "knapsack_vars = Knapsack(\n",
    "    capacity=capacity,\n",
    "    values=values,\n",
    "    weights=weights,\n",
    "    sorted_ratio_indexes=sorted_ratio_indexes,\n",
    ")"
   ]
  },
  {
   "cell_type": "code",
   "execution_count": null,
   "metadata": {},
   "outputs": [],
   "source": []
  },
  {
   "cell_type": "code",
   "execution_count": null,
   "metadata": {},
   "outputs": [],
   "source": [
    "def knapsack_bench(individual, knapsack_vars):\n",
    "    if len(individual.features) != len(knapsack_vars.values) or len(individual.features) != len(\n",
    "        knapsack_vars.weights\n",
    "    ):\n",
    "        return False\n",
    "\n",
    "    total_value = 0\n",
    "    individual.total_weight = 0\n",
    "\n",
    "    for i in range(len(individual.features)):\n",
    "        if individual.features[i] != 0 and individual.features[i] != 1:\n",
    "            return False\n",
    "        elif individual.features[i] == 1:\n",
    "            individual.total_weight += knapsack_vars.weights[i]\n",
    "            total_value += knapsack_vars.values[i]\n",
    "\n",
    "    return total_value"
   ]
  },
  {
   "cell_type": "code",
   "execution_count": null,
   "metadata": {},
   "outputs": [],
   "source": [
    "def knapsack_repair(individual,knapsack_vars):\n",
    "    if individual.total_weight <= knapsack_vars.capacity:\n",
    "        return individual\n",
    "    for i in range(len(knapsack_vars.values)):\n",
    "        if individual.total_weight > knapsack_vars.capacity:\n",
    "            index = knapsack_vars.sorted_ratio_indexes[i]\n",
    "            if individual.features[index] == 1:\n",
    "                individual.features[index] = 0\n",
    "                individual.total_weight -= knapsack_vars.weights[index]\n",
    "                individual.objective -= knapsack_vars.values[index]\n",
    "        else:\n",
    "            break\n",
    "    return individual"
   ]
  },
  {
   "cell_type": "code",
   "execution_count": null,
   "metadata": {},
   "outputs": [],
   "source": [
    "# {\n",
    "#     \"capacity\": 200,\n",
    "#     \"values\": [random.randint(1, 100) for i in range(num_of_variables)],\n",
    "#     \"weights\": [random.randint(1, 100) for i in range(num_of_variables)],\n",
    "#     \"ratios\": [],\n",
    "#     \"sorted_ratio_indexes\": [],\n",
    "#     \"total_weight\": 0,\n",
    "#     \"total_value\": 0,\n",
    "# }\n",
    "\n",
    "\n",
    "\n",
    "\n",
    "# print(\n",
    "#     knapsack_bench(\n",
    "#         [random.randint(0, 1) for i in range(num_of_variables)], knapsack_vars\n",
    "#     )\n",
    "# )\n",
    "# print(knapsack_vars[\"total_weight\"], knapsack_vars[\"capacity\"])"
   ]
  },
  {
   "cell_type": "code",
   "execution_count": null,
   "metadata": {},
   "outputs": [],
   "source": [
    "print(knapsack_vars.values, \"\\n\", knapsack_vars.weights, \"\\n\", knapsack_vars.sorted_ratio_indexes)"
   ]
  },
  {
   "cell_type": "code",
   "execution_count": null,
   "metadata": {},
   "outputs": [],
   "source": [
    "# define a classe de problema\n",
    "problem = Problem(num_of_variables=num_of_variables,\n",
    "                      num_of_individuals=num_of_individuals,\n",
    "                      num_of_generations=generations,\n",
    "                      objective=[knapsack_bench],# ATENÇÃO: aqui ele passa uma função\n",
    "                      repair=[knapsack_repair],\n",
    "                      objective_vars= knapsack_vars,\n",
    "                      mutation=(1/num_of_variables),\n",
    "                      variables_range=[0, 1],\n",
    "                      direction=direction,\n",
    "                      initial_population_type=2,)"
   ]
  },
  {
   "cell_type": "code",
   "execution_count": null,
   "metadata": {},
   "outputs": [],
   "source": [
    "num_iterations = 4\n",
    "\n",
    "first_gens = []\n",
    "best_values = []\n",
    "population_gen_type = problem.initial_population_type\n",
    "problem_type = \"knapsack\"\n",
    "convergences = []\n",
    "\n",
    "for i in range(num_iterations):\n",
    "    iteration = IDLHC(problem, num_pdf=num_pdf, num_cut_pdf=num_cut_pdf)\n",
    "    iteration.do()\n",
    "    best_value = max(iteration.convergence_array)\n",
    "    best_values.append(best_value)\n",
    "    convergences.append(iteration.convergence_array)\n",
    "\n",
    "    for n in range(len(iteration.convergence_array)):\n",
    "        if iteration.convergence_array[n] == best_values[i]:\n",
    "            first_gens.append(n)\n",
    "            break\n",
    "    \n",
    "    # item_var = {\"Iteration\": i, \"Best value per generation\": max(iteration.convergence_array), \"First generation to reach best value\": n, \"type\": problem.initial_population_type}\n",
    "\n"
   ]
  },
  {
   "cell_type": "code",
   "execution_count": null,
   "metadata": {},
   "outputs": [],
   "source": [
    "import pandas as pd\n",
    "from pathlib import Path  \n",
    "\n",
    "df2 = pd.DataFrame(\n",
    "\n",
    "    {\n",
    "        \"best_value\" : best_values,\n",
    "        \"firstgen_with_best_value\": first_gens,\n",
    "        \"population_gen_type\": population_gen_type,\n",
    "        \"problem_type\" : problem_type,\n",
    "        \"convergence_array\": ''\n",
    "    }\n",
    ")\n",
    "\n",
    "for i in range(len(best_values)):\n",
    "    df2.at[i,\"convergence_array\"] = convergences[i]\n",
    "\n",
    "filepath = Path('metrics/knapsack.csv')\n",
    "\n",
    "filepath.parent.mkdir(parents=True, exist_ok=True)  \n",
    "\n",
    "df2.to_csv(filepath,mode='a',index=False,header=False)"
   ]
  },
  {
   "cell_type": "code",
   "execution_count": null,
   "metadata": {},
   "outputs": [],
   "source": [
    "import pandas as pd\n",
    "from pathlib import Path  \n",
    "\n",
    "final_dict = {}\n",
    "num_of_problems = 100\n",
    "capacity = 2000\n",
    "\n",
    "def gen_problem_vars():\n",
    "    values= [random.randint(1, 100) for i in range(num_of_variables)]\n",
    "    weights= [random.randint(1, 100) for i in range(num_of_variables)]\n",
    "\n",
    "    ratios = [values[i] / weights[i] for i in range(num_of_variables)]\n",
    "\n",
    "    sorted_ratio_indexes = sorted(\n",
    "        range(len(values)), key=lambda i: ratios[i]\n",
    "    )\n",
    "    return values,weights,ratios,sorted_ratio_indexes\n",
    "\n",
    "zero_list = ['' for i in range(num_of_problems)]\n",
    "\n",
    "problems_to_bench = pd.DataFrame(\n",
    "    \n",
    "    {\n",
    "        \"values\": zero_list.copy(),\n",
    "        \"weights\": zero_list.copy(),\n",
    "        \"sorted_ratio_indexes\": zero_list.copy(),\n",
    "        \"ratios\": zero_list.copy(),\n",
    "        \"capacity\": capacity,\n",
    "    }\n",
    ")\n",
    "\n",
    "\n",
    "for i in range(num_of_problems):\n",
    "    values,weights,ratios,sorted_ratio_indexes = gen_problem_vars()\n",
    "    \n",
    "    problems_to_bench.at[i, \"values\"] = values\n",
    "    problems_to_bench.at[i, \"weights\"] = weights\n",
    "    problems_to_bench.at[i, \"ratios\"] = ratios\n",
    "    problems_to_bench.at[i, \"sorted_ratio_indexes\"] = sorted_ratio_indexes\n",
    "\n",
    "\n",
    "filepath_1 = Path('problems/knapsack_problems.csv')\n",
    "\n",
    "filepath_1.parent.mkdir(parents=True, exist_ok=True)  \n",
    "\n",
    "problems_to_bench.to_csv(filepath_1,mode='a',index=False,header=True)"
   ]
  },
  {
   "cell_type": "code",
   "execution_count": null,
   "metadata": {},
   "outputs": [],
   "source": [
    "problems_to_bench.head()"
   ]
  },
  {
   "cell_type": "code",
   "execution_count": null,
   "metadata": {},
   "outputs": [],
   "source": [
    "df2.head()"
   ]
  }
 ],
 "metadata": {
  "kernelspec": {
   "display_name": "idlhc_env",
   "language": "python",
   "name": "python3"
  },
  "language_info": {
   "codemirror_mode": {
    "name": "ipython",
    "version": 3
   },
   "file_extension": ".py",
   "mimetype": "text/x-python",
   "name": "python",
   "nbconvert_exporter": "python",
   "pygments_lexer": "ipython3",
   "version": "3.9.7"
  }
 },
 "nbformat": 4,
 "nbformat_minor": 2
}
